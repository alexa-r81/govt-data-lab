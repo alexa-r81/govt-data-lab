{
 "cells": [
  {
   "cell_type": "code",
   "execution_count": null,
   "metadata": {},
   "outputs": [],
   "source": [
    "#UPDATE this cell with your data source + Dictionary/Codebook\n",
    "#data source: https://data.census.gov/cedsci/table?q=Educational%20Attainment&g=0100000US%240400000&tid=ACSST5Y2020.S1502\n",
    "#data dictionary: there is no link for codebook, the codebook is just included under notes in the link to the data set."
   ]
  },
  {
   "cell_type": "code",
   "execution_count": 28,
   "metadata": {},
   "outputs": [],
   "source": [
    "#import necessary libaries\n",
    "import pandas as pd\n",
    "import matplotlib"
   ]
  },
  {
   "cell_type": "code",
   "execution_count": 29,
   "metadata": {},
   "outputs": [],
   "source": [
    "#name file path (you will have download your own dataset and populate the path and choose the appropriate cell to execute)\n",
    "file = 'majors_data.csv' # <-- edit this value! "
   ]
  },
  {
   "cell_type": "code",
   "execution_count": 30,
   "metadata": {},
   "outputs": [],
   "source": [
    "#you will run just ONE of the next four code blocks, depending on the file type of your dataset"
   ]
  },
  {
   "cell_type": "code",
   "execution_count": 31,
   "metadata": {
    "scrolled": false
   },
   "outputs": [
    {
     "name": "stdout",
     "output_type": "stream",
     "text": [
      "                                    Label (Grouping) Alabama!!Total!!Estimate  \\\n",
      "0  Total population 25 years and over with a Bach...                  877,044   \n",
      "1                            Science and Engineering                  256,273   \n",
      "2             Science and Engineering Related Fields                   94,361   \n",
      "3                                           Business                  206,195   \n",
      "4                                          Education                  145,839   \n",
      "\n",
      "  Alabama!!Total!!Margin of Error Alabama!!Percent!!Estimate  \\\n",
      "0                          ±8,496                        (X)   \n",
      "1                          ±3,921                      29.2%   \n",
      "2                          ±2,446                      10.8%   \n",
      "3                          ±3,962                      23.5%   \n",
      "4                          ±3,348                      16.6%   \n",
      "\n",
      "  Alabama!!Percent!!Margin of Error Alabama!!Male!!Estimate  \\\n",
      "0                               (X)                 401,331   \n",
      "1                              ±0.4                 156,491   \n",
      "2                              ±0.3                  24,932   \n",
      "3                              ±0.4                 109,757   \n",
      "4                              ±0.3                  31,932   \n",
      "\n",
      "  Alabama!!Male!!Margin of Error Alabama!!Percent Male!!Estimate  \\\n",
      "0                         ±4,789                             (X)   \n",
      "1                         ±2,817                           39.0%   \n",
      "2                         ±1,399                            6.2%   \n",
      "3                         ±2,594                           27.3%   \n",
      "4                         ±1,582                            8.0%   \n",
      "\n",
      "  Alabama!!Percent Male!!Margin of Error Alabama!!Female!!Estimate  ...  \\\n",
      "0                                    (X)                   475,713  ...   \n",
      "1                                   ±0.6                    99,782  ...   \n",
      "2                                   ±0.3                    69,429  ...   \n",
      "3                                   ±0.6                    96,438  ...   \n",
      "4                                   ±0.4                   113,907  ...   \n",
      "\n",
      "  Puerto Rico!!Percent!!Estimate Puerto Rico!!Percent!!Margin of Error  \\\n",
      "0                            (X)                                   (X)   \n",
      "1                          26.3%                                  ±0.5   \n",
      "2                          11.7%                                  ±0.4   \n",
      "3                          29.7%                                  ±0.4   \n",
      "4                          18.5%                                  ±0.4   \n",
      "\n",
      "  Puerto Rico!!Male!!Estimate Puerto Rico!!Male!!Margin of Error  \\\n",
      "0                     236,378                             ±3,768   \n",
      "1                      82,459                             ±2,554   \n",
      "2                      18,770                             ±1,160   \n",
      "3                      77,414                             ±2,079   \n",
      "4                      25,334                             ±1,248   \n",
      "\n",
      "  Puerto Rico!!Percent Male!!Estimate  \\\n",
      "0                                 (X)   \n",
      "1                               34.9%   \n",
      "2                                7.9%   \n",
      "3                               32.8%   \n",
      "4                               10.7%   \n",
      "\n",
      "  Puerto Rico!!Percent Male!!Margin of Error Puerto Rico!!Female!!Estimate  \\\n",
      "0                                        (X)                       385,422   \n",
      "1                                       ±0.9                        80,999   \n",
      "2                                       ±0.5                        54,225   \n",
      "3                                       ±0.8                       107,003   \n",
      "4                                       ±0.5                        89,558   \n",
      "\n",
      "  Puerto Rico!!Female!!Margin of Error Puerto Rico!!Percent Female!!Estimate  \\\n",
      "0                               ±4,350                                   (X)   \n",
      "1                               ±2,221                                 21.0%   \n",
      "2                               ±2,214                                 14.1%   \n",
      "3                               ±2,277                                 27.8%   \n",
      "4                               ±2,196                                 23.2%   \n",
      "\n",
      "  Puerto Rico!!Percent Female!!Margin of Error  \n",
      "0                                          (X)  \n",
      "1                                         ±0.5  \n",
      "2                                         ±0.5  \n",
      "3                                         ±0.6  \n",
      "4                                         ±0.5  \n",
      "\n",
      "[5 rows x 625 columns]\n"
     ]
    }
   ],
   "source": [
    "#read data from CSV (.csv) & print head\n",
    "df = pd.read_csv(file)\n",
    "print(df.head())"
   ]
  },
  {
   "cell_type": "markdown",
   "metadata": {},
   "source": [
    "#read data from SAS (.sas7bdat or .sas) & print head\n",
    "df = pd.read_sas(file)\n",
    "print(df.head())"
   ]
  },
  {
   "cell_type": "code",
   "execution_count": 37,
   "metadata": {
    "scrolled": false
   },
   "outputs": [
    {
     "name": "stdout",
     "output_type": "stream",
     "text": [
      "                                    Label (Grouping) Alabama!!Total!!Estimate  \\\n",
      "0  Total population 25 years and over with a Bach...                  877,044   \n",
      "1                            Science and Engineering                  256,273   \n",
      "2             Science and Engineering Related Fields                   94,361   \n",
      "3                                           Business                  206,195   \n",
      "4                                          Education                  145,839   \n",
      "\n",
      "  Alabama!!Total!!Margin of Error Alabama!!Percent!!Estimate  \\\n",
      "0                          ±8,496                        (X)   \n",
      "1                          ±3,921                      29.2%   \n",
      "2                          ±2,446                      10.8%   \n",
      "3                          ±3,962                      23.5%   \n",
      "4                          ±3,348                      16.6%   \n",
      "\n",
      "  Alabama!!Percent!!Margin of Error Alabama!!Male!!Estimate  \\\n",
      "0                               (X)                 401,331   \n",
      "1                              ±0.4                 156,491   \n",
      "2                              ±0.3                  24,932   \n",
      "3                              ±0.4                 109,757   \n",
      "4                              ±0.3                  31,932   \n",
      "\n",
      "  Alabama!!Male!!Margin of Error Alabama!!Percent Male!!Estimate  \\\n",
      "0                         ±4,789                             (X)   \n",
      "1                         ±2,817                           39.0%   \n",
      "2                         ±1,399                            6.2%   \n",
      "3                         ±2,594                           27.3%   \n",
      "4                         ±1,582                            8.0%   \n",
      "\n",
      "  Alabama!!Percent Male!!Margin of Error Alabama!!Female!!Estimate  ...  \\\n",
      "0                                    (X)                   475,713  ...   \n",
      "1                                   ±0.6                    99,782  ...   \n",
      "2                                   ±0.3                    69,429  ...   \n",
      "3                                   ±0.6                    96,438  ...   \n",
      "4                                   ±0.4                   113,907  ...   \n",
      "\n",
      "  Puerto Rico!!Percent!!Estimate Puerto Rico!!Percent!!Margin of Error  \\\n",
      "0                            (X)                                   (X)   \n",
      "1                          26.3%                                  ±0.5   \n",
      "2                          11.7%                                  ±0.4   \n",
      "3                          29.7%                                  ±0.4   \n",
      "4                          18.5%                                  ±0.4   \n",
      "\n",
      "  Puerto Rico!!Male!!Estimate Puerto Rico!!Male!!Margin of Error  \\\n",
      "0                     236,378                             ±3,768   \n",
      "1                      82,459                             ±2,554   \n",
      "2                      18,770                             ±1,160   \n",
      "3                      77,414                             ±2,079   \n",
      "4                      25,334                             ±1,248   \n",
      "\n",
      "  Puerto Rico!!Percent Male!!Estimate  \\\n",
      "0                                 (X)   \n",
      "1                               34.9%   \n",
      "2                                7.9%   \n",
      "3                               32.8%   \n",
      "4                               10.7%   \n",
      "\n",
      "  Puerto Rico!!Percent Male!!Margin of Error Puerto Rico!!Female!!Estimate  \\\n",
      "0                                        (X)                       385,422   \n",
      "1                                       ±0.9                        80,999   \n",
      "2                                       ±0.5                        54,225   \n",
      "3                                       ±0.8                       107,003   \n",
      "4                                       ±0.5                        89,558   \n",
      "\n",
      "  Puerto Rico!!Female!!Margin of Error Puerto Rico!!Percent Female!!Estimate  \\\n",
      "0                               ±4,350                                   (X)   \n",
      "1                               ±2,221                                 21.0%   \n",
      "2                               ±2,214                                 14.1%   \n",
      "3                               ±2,277                                 27.8%   \n",
      "4                               ±2,196                                 23.2%   \n",
      "\n",
      "  Puerto Rico!!Percent Female!!Margin of Error  \n",
      "0                                          (X)  \n",
      "1                                         ±0.5  \n",
      "2                                         ±0.5  \n",
      "3                                         ±0.6  \n",
      "4                                         ±0.5  \n",
      "\n",
      "[5 rows x 625 columns]\n"
     ]
    }
   ],
   "source": [
    "#list columns in data frame\n",
    "print(df.head())"
   ]
  },
  {
   "cell_type": "code",
   "execution_count": 39,
   "metadata": {
    "scrolled": true
   },
   "outputs": [
    {
     "name": "stdout",
     "output_type": "stream",
     "text": [
      "   percent female majors texas  freq\n",
      "0                          (X)     4\n",
      "12                       11.0%     1\n",
      "3                        11.6%     1\n",
      "9                        12.2%     1\n",
      "19                       12.3%     1\n",
      "14                       12.4%     1\n",
      "4                        12.5%     1\n",
      "5                        16.7%     1\n",
      "7                        17.6%     1\n",
      "17                       18.1%     1\n",
      "13                       19.8%     1\n",
      "18                       20.5%     1\n",
      "6                        21.1%     1\n",
      "20                       21.9%     1\n",
      "16                       22.6%     1\n",
      "8                        24.0%     1\n",
      "10                       24.7%     1\n",
      "1                        25.1%     1\n",
      "11                       26.5%     1\n",
      "15                       32.1%     1\n",
      "2                        37.4%     1\n"
     ]
    }
   ],
   "source": [
    "#output frequency table of chosen column in dataset\n",
    "col = 'Texas!!Percent Female!!Estimate' #<-edit this value! column name as it appears in dataframe\n",
    "col_name = 'percent female majors texas' #<-edit this value! descriptive name for column\n",
    "freq = df[col].value_counts().rename_axis(col_name).reset_index(name='freq')\n",
    "freq = freq.sort_values(by = col_name)\n",
    "print(freq)"
   ]
  },
  {
   "cell_type": "code",
   "execution_count": 44,
   "metadata": {
    "scrolled": false
   },
   "outputs": [
    {
     "name": "stdout",
     "output_type": "stream",
     "text": [
      "   percent female majors texas  freq\n",
      "0                          (X)     4\n",
      "12                       11.0%     1\n",
      "3                        11.6%     1\n",
      "9                        12.2%     1\n",
      "19                       12.3%     1\n",
      "14                       12.4%     1\n",
      "4                        12.5%     1\n",
      "5                        16.7%     1\n",
      "7                        17.6%     1\n",
      "17                       18.1%     1\n",
      "13                       19.8%     1\n",
      "18                       20.5%     1\n",
      "6                        21.1%     1\n",
      "20                       21.9%     1\n",
      "16                       22.6%     1\n",
      "8                        24.0%     1\n",
      "10                       24.7%     1\n",
      "1                        25.1%     1\n",
      "11                       26.5%     1\n",
      "15                       32.1%     1\n",
      "2                        37.4%     1\n"
     ]
    }
   ],
   "source": [
    "#replace codes with descriptive labels\n",
    "#if your dataframe already has descriptive labels, you don't need to run this cell\n",
    "codebook = [['1', 'Science and Engineering 40-64'], #<- if appropriate, replace these values based on codebook or data dictionary for your dataset\n",
    "            ['2', 'Education 65+'], \n",
    "            ['3', 'Business 65+'], \n",
    "            ['4', 'Science and Engineering Related Fields 65+'], \n",
    "            ['5', 'Science and Engineering 65+'], \n",
    "            ['6', 'Arts, Humanities, and Others 40-64'], \n",
    "            ['7', 'Education 40-64'], \n",
    "            ['8', 'Business 40-64'], \n",
    "            ['9', 'Science and Engineering Related Fields 40-64'], \n",
    "            ['10', 'Arts, Humanities, and Others 25-39'], \n",
    "            ['11', 'Science and Engineering Total'], \n",
    "            ['12', 'Education 25-39'], \n",
    "            ['13', 'Business 25-39'], \n",
    "            ['14', 'Science and Engineering Related Fields 25-39'], \n",
    "            ['15', 'Science and Engineering 25-39'],\n",
    "            ['16', 'Arts, Humanities, and Others Total'], \n",
    "            ['17', 'Education Total'],\n",
    "            ['18', 'Business Total'],\n",
    "            ['19', 'Science and Engineering Related Fields Total'],\n",
    "            ['20', 'Arts, Humanities, and Others 65+']]\n",
    "\n",
    "#loops through label codes and replaces them in frequency table\n",
    "for lbl in codebook:\n",
    "    #use line below if codes are stored as integers\n",
    "    freq[col_name] = freq[col_name].replace((lbl[0]), lbl[1])\n",
    "    \n",
    "    \n",
    "\n",
    "\n",
    "    \n",
    "    \n",
    "#prints updated frequency table\n",
    "print(freq)"
   ]
  },
  {
   "cell_type": "code",
   "execution_count": 19,
   "metadata": {
    "scrolled": true
   },
   "outputs": [
    {
     "data": {
      "image/png": "[encoded data removed]",
      "text/plain": [
       "<Figure size 432x288 with 1 Axes>"
      ]
     },
     "metadata": {
      "needs_background": "light"
     },
     "output_type": "display_data"
    }
   ],
   "source": [
    "#create frequency chart\n",
    "ax = freq.plot.barh(x=col_name, y='freq', rot=0)"
   ]
  },
  {
   "cell_type": "code",
   "execution_count": null,
   "metadata": {},
   "outputs": [],
   "source": []
  }
 ],
 "metadata": {
  "kernelspec": {
   "display_name": "Python 3 (ipykernel)",
   "language": "python",
   "name": "python3"
  },
  "language_info": {
   "codemirror_mode": {
    "name": "ipython",
    "version": 3
   },
   "file_extension": ".py",
   "mimetype": "text/x-python",
   "name": "python",
   "nbconvert_exporter": "python",
   "pygments_lexer": "ipython3",
   "version": "3.9.12"
  }
 },
 "nbformat": 4,
 "nbformat_minor": 4
}
