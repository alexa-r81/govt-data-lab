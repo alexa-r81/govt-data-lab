{
 "cells": [
  {
   "cell_type": "code",
   "execution_count": 2,
   "id": "21a96fa7",
   "metadata": {},
   "outputs": [],
   "source": [
    "#import libraries\n",
    "import pandas as pd"
   ]
  },
  {
   "cell_type": "code",
   "execution_count": null,
   "id": "ab63f193",
   "metadata": {},
   "outputs": [],
   "source": []
  },
  {
   "cell_type": "code",
   "execution_count": 3,
   "id": "d40cc7f0",
   "metadata": {},
   "outputs": [],
   "source": [
    "import numpy as np"
   ]
  },
  {
   "cell_type": "code",
   "execution_count": 5,
   "id": "635e6c88",
   "metadata": {},
   "outputs": [],
   "source": [
    "df = pd.read_csv('asecpub21csv/pppub21.csv')"
   ]
  },
  {
   "cell_type": "code",
   "execution_count": null,
   "id": "d9996b33",
   "metadata": {},
   "outputs": [],
   "source": [
    "#populate dataframe with random numbers\n",
    "df = pd.DataFrame(np.random.randint(0,100, \n",
    "size=(1000,12)), columns=list('ABCDEFGHIJKL'))\n",
    "print(df)"
   ]
  },
  {
   "cell_type": "code",
   "execution_count": 6,
   "id": "7c2fbb3a",
   "metadata": {},
   "outputs": [
    {
     "name": "stdout",
     "output_type": "stream",
     "text": [
      "                 PERIDNUM  PH_SEQ  P_SEQ  A_LINENO  PF_SEQ  PHF_SEQ  OED_TYP1  \\\n",
      "0  8238946011902051101101       1      1         1       1        1         0   \n",
      "1  8238946011902051101102       1      2         2       1        1         0   \n",
      "2  8238946011902051101103       1      3         3       1        1         0   \n",
      "3  6092052593105071201101       2      1         1       1        1         0   \n",
      "4  6092052593105071201102       2      2         2       1        1         0   \n",
      "\n",
      "   OED_TYP2  OED_TYP3  PERRP  ...  I_DISVL1  I_DISVL2  I_SURVL1  I_SURVL2  \\\n",
      "0         0         0     40  ...         0         0         0         0   \n",
      "1         0         0     42  ...         0         0         0         0   \n",
      "2         0         0     50  ...         0         0         0         0   \n",
      "3         0         0     40  ...         0         0         0         0   \n",
      "4         0         0     42  ...         0         0         0         0   \n",
      "\n",
      "   MIG_CBST  MIG_DSCP  DEP_STAT  FILEDATE  FILESTAT  YYYYMM  \n",
      "0         0         0         0     81921         1  202103  \n",
      "1         0         0         0     81921         1  202103  \n",
      "2         0         0         0     81921         5  202103  \n",
      "3         0         0         0     81921         3  202103  \n",
      "4         0         0         0     81921         3  202103  \n",
      "\n",
      "[5 rows x 830 columns]\n"
     ]
    }
   ],
   "source": [
    "#print first five rows of dataset\n",
    "print(df.head())"
   ]
  },
  {
   "cell_type": "code",
   "execution_count": null,
   "id": "203748cb",
   "metadata": {},
   "outputs": [],
   "source": [
    "#print list of column names\n",
    "list(df)"
   ]
  },
  {
   "cell_type": "code",
   "execution_count": null,
   "id": "5fb3d31b",
   "metadata": {},
   "outputs": [],
   "source": []
  }
 ],
 "metadata": {
  "kernelspec": {
   "display_name": "Python 3 (ipykernel)",
   "language": "python",
   "name": "python3"
  },
  "language_info": {
   "codemirror_mode": {
    "name": "ipython",
    "version": 3
   },
   "file_extension": ".py",
   "mimetype": "text/x-python",
   "name": "python",
   "nbconvert_exporter": "python",
   "pygments_lexer": "ipython3",
   "version": "3.9.12"
  }
 },
 "nbformat": 4,
 "nbformat_minor": 5
}
